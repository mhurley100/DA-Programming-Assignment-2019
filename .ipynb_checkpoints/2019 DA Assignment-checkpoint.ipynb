{
 "cells": [
  {
   "cell_type": "markdown",
   "metadata": {},
   "source": [
    "# 2019 DA Assignment"
   ]
  },
  {
   "cell_type": "markdown",
   "metadata": {},
   "source": [
    "This assignment relates to the numpy.random package in Python [2] using Jupyter [5] notebook to explain the use of the package, including detailed explanations of at least five of the distributions provided for in the package.\n",
    "There are four distinct tasks to be carried out in Jupyter notebook:\n",
    "  1. Explain the overall purpose of the package.\n",
    "  2. Explain the use of the “Simple random data” and “Permutations” functions.\n",
    "  3. Explain the use and purpose of at least five “Distributions” functions.\n",
    "  4. Explain the use of seeds in generating pseudorandom numbers."
   ]
  },
  {
   "cell_type": "markdown",
   "metadata": {},
   "source": [
    "## 1. Purpose of the Numpy random package"
   ]
  },
  {
   "cell_type": "markdown",
   "metadata": {},
   "source": [
    "The purpose of the NumPy random package is to generate random numbers as required.  It is highly used in computer programming as the generation of pseudo-random numbers is imperative to many applications for probability distributions and functions in scientific research and other applications.  NumPy generates pseudorandom numbers in the submodule random using the Mersenne Twister algorithm. Pseudorandomness is generation of numbers using a deterministic process.  The numbers appear random but are seeded with an initial number.  These random numbers are used in a range of distributions:\n",
    "\n",
    "\n",
    "\n",
    "- uniform\n",
    "- normal (Gaussian)\n",
    "- lognormal\n",
    "- negative exponential\n",
    "- gamma\n",
    "- beta\n",
    "\n",
    "For generating distributions of angles, the von Mises distribution is used.\n",
    "\n",
    "However, being completely deterministic, it is not suitable for all purposes for example security or cryptographic purposes."
   ]
  },
  {
   "cell_type": "markdown",
   "metadata": {},
   "source": [
    "Import the random module. The random function generates a float number between 0.0 and 1.0. Generate 10 random numbers and repeat.  A different series of numbers is generated each time (see below):"
   ]
  },
  {
   "cell_type": "code",
   "execution_count": 5,
   "metadata": {},
   "outputs": [
    {
     "data": {
      "text/plain": [
       "array([0.22479665, 0.19806286, 0.76053071, 0.16911084, 0.08833981,\n",
       "       0.68535982, 0.95339335, 0.00394827, 0.51219226, 0.81262096])"
      ]
     },
     "execution_count": 5,
     "metadata": {},
     "output_type": "execute_result"
    }
   ],
   "source": [
    "import numpy as np\n",
    "np.random.rand(10)"
   ]
  },
  {
   "cell_type": "code",
   "execution_count": 6,
   "metadata": {},
   "outputs": [
    {
     "data": {
      "text/plain": [
       "array([0.61252607, 0.72175532, 0.29187607, 0.91777412, 0.71457578,\n",
       "       0.54254437, 0.14217005, 0.37334076, 0.67413362, 0.44183317])"
      ]
     },
     "execution_count": 6,
     "metadata": {},
     "output_type": "execute_result"
    }
   ],
   "source": [
    "import numpy as np\n",
    "np.random.rand(10)"
   ]
  },
  {
   "cell_type": "markdown",
   "metadata": {},
   "source": [
    "## 2.1  Use of the \"Simple Random Data\" function"
   ]
  },
  {
   "cell_type": "markdown",
   "metadata": {},
   "source": [
    "Simple random data¶\n",
    "rand(d0, d1, ..., dn)\tRandom values in a given shape.\n",
    "randn(d0, d1, ..., dn)\tReturn a sample (or samples) from the “standard normal” distribution.\n",
    "randint(low[, high, size, dtype])\tReturn random integers from low (inclusive) to high (exclusive).\n",
    "random_integers(low[, high, size])\tRandom integers of type np.int between low and high, inclusive.\n",
    "random_sample([size])\tReturn random floats in the half-open interval [0.0, 1.0).\n",
    "random([size])\tReturn random floats in the half-open interval [0.0, 1.0).\n",
    "ranf([size])\tReturn random floats in the half-open interval [0.0, 1.0).\n",
    "sample([size])\tReturn random floats in the half-open interval [0.0, 1.0).\n",
    "choice(a[, size, replace, p])\tGenerates a random sample from a given 1-D array\n",
    "bytes(length)\tReturn random bytes.\n",
    "Permutations"
   ]
  },
  {
   "cell_type": "markdown",
   "metadata": {},
   "source": [
    "## 2.2  Use of the \"Permutations\" function"
   ]
  },
  {
   "cell_type": "markdown",
   "metadata": {},
   "source": [
    "Permutations\n",
    "shuffle(x)\tModify a sequence in-place by shuffling its contents.\n",
    "permutation(x)\tRandomly permute a sequence, or return a permuted range."
   ]
  },
  {
   "cell_type": "markdown",
   "metadata": {},
   "source": [
    "## 3  Purpose of 5 \"Distributions\"  functions"
   ]
  },
  {
   "cell_type": "markdown",
   "metadata": {},
   "source": [
    "Distributions\n",
    "beta(a, b[, size])\tDraw samples from a Beta distribution.\n",
    "binomial(n, p[, size])\tDraw samples from a binomial distribution.\n",
    "chisquare(df[, size])\tDraw samples from a chi-square distribution.\n",
    "dirichlet(alpha[, size])\tDraw samples from the Dirichlet distribution.\n",
    "exponential([scale, size])\tDraw samples from an exponential distribution.\n",
    "f(dfnum, dfden[, size])\tDraw samples from an F distribution.\n",
    "gamma(shape[, scale, size])\tDraw samples from a Gamma distribution.\n",
    "geometric(p[, size])\tDraw samples from the geometric distribution.\n",
    "gumbel([loc, scale, size])\tDraw samples from a Gumbel distribution.\n",
    "hypergeometric(ngood, nbad, nsample[, size])\tDraw samples from a Hypergeometric distribution.\n",
    "laplace([loc, scale, size])\tDraw samples from the Laplace or double exponential distribution with specified location (or mean) and scale (decay).\n",
    "logistic([loc, scale, size])\tDraw samples from a logistic distribution.\n",
    "lognormal([mean, sigma, size])\tDraw samples from a log-normal distribution.\n",
    "logseries(p[, size])\tDraw samples from a logarithmic series distribution.\n",
    "multinomial(n, pvals[, size])\tDraw samples from a multinomial distribution.\n",
    "multivariate_normal(mean, cov[, size, ...)\tDraw random samples from a multivariate normal distribution.\n",
    "negative_binomial(n, p[, size])\tDraw samples from a negative binomial distribution.\n",
    "noncentral_chisquare(df, nonc[, size])\tDraw samples from a noncentral chi-square distribution.\n",
    "noncentral_f(dfnum, dfden, nonc[, size])\tDraw samples from the noncentral F distribution.\n",
    "normal([loc, scale, size])\tDraw random samples from a normal (Gaussian) distribution.\n",
    "pareto(a[, size])\tDraw samples from a Pareto II or Lomax distribution with specified shape.\n",
    "poisson([lam, size])\tDraw samples from a Poisson distribution.\n",
    "power(a[, size])\tDraws samples in [0, 1] from a power distribution with positive exponent a - 1.\n",
    "rayleigh([scale, size])\tDraw samples from a Rayleigh distribution.\n",
    "standard_cauchy([size])\tDraw samples from a standard Cauchy distribution with mode = 0.\n",
    "standard_exponential([size])\tDraw samples from the standard exponential distribution.\n",
    "standard_gamma(shape[, size])\tDraw samples from a standard Gamma distribution.\n",
    "standard_normal([size])\tDraw samples from a standard Normal distribution (mean=0, stdev=1).\n",
    "standard_t(df[, size])\tDraw samples from a standard Student’s t distribution with df degrees of freedom.\n",
    "triangular(left, mode, right[, size])\tDraw samples from the triangular distribution over the interval [left, right].\n",
    "uniform([low, high, size])\tDraw samples from a uniform distribution.\n",
    "vonmises(mu, kappa[, size])\tDraw samples from a von Mises distribution.\n",
    "wald(mean, scale[, size])\tDraw samples from a Wald, or inverse Gaussian, distribution.\n",
    "weibull(a[, size])\tDraw samples from a Weibull distribution.\n",
    "zipf(a[, size])\tDraw samples from a Zipf distribution.\n",
    "\n",
    "### Uniform Distributions\n",
    "\n",
    "\n",
    "Samples are uniformly distributed over an interval.\n",
    "\n",
    "numpy.random.uniform\n",
    "numpy.random.uniform(low=0.0, high=1.0, size=None)\n",
    "Draw samples from a uniform distribution.\n",
    "\n",
    "\n",
    "\n",
    "- rand - returns samples from uniform distribution \n",
    "- randint: return sample integer from uniform distribution"
   ]
  },
  {
   "cell_type": "markdown",
   "metadata": {},
   "source": [
    "## 4 Use of seeds in generating pseudorandom numbers"
   ]
  },
  {
   "cell_type": "markdown",
   "metadata": {},
   "source": [
    "Seeding the pseudorandom number generator has resulted in the same sequence of numbers being generated twice.  The value of the seed can be any number but once a seed is assigned the result is the same sequence of random numbers.  Therefore a seed makes random numbers predictable. When the value is reset, the same numbers are output again and again. If a seed is not assigned, NumPy automatically selects a random seed value based on the system's random number generator device or on the clock.\n",
    "\n",
    "\n",
    "Random number generators are very useful in developing Monte Carlo-method simulations, as debugging is facilitated by the ability to run the same sequence of random numbers again by starting from the same random seed. They are also used in cryptography – so long as the seed is secret. Sender and receiver can generate the same set of numbers automatically to use as keys.\n",
    "Random generator\n",
    "RandomState\tContainer for the Mersenne Twister pseudo-random number generator.\n",
    "seed([seed])\tSeed the generator.\n",
    "get_state()\tReturn a tuple representing the internal state of the generator.\n",
    "set_state(state)\tSet the internal state of the generator from a tuple."
   ]
  },
  {
   "cell_type": "code",
   "execution_count": 3,
   "metadata": {},
   "outputs": [
    {
     "data": {
      "text/plain": [
       "array([0.77132064, 0.02075195, 0.63364823, 0.74880388, 0.49850701])"
      ]
     },
     "execution_count": 3,
     "metadata": {},
     "output_type": "execute_result"
    }
   ],
   "source": [
    "import numpy as np\n",
    "np.random.seed(10)\n",
    "np.random.rand(5)"
   ]
  },
  {
   "cell_type": "code",
   "execution_count": 4,
   "metadata": {},
   "outputs": [
    {
     "data": {
      "text/plain": [
       "array([0.77132064, 0.02075195, 0.63364823, 0.74880388, 0.49850701])"
      ]
     },
     "execution_count": 4,
     "metadata": {},
     "output_type": "execute_result"
    }
   ],
   "source": [
    "import numpy as np\n",
    "np.random.seed(10)\n",
    "np.random.rand(5)"
   ]
  },
  {
   "cell_type": "code",
   "execution_count": null,
   "metadata": {},
   "outputs": [],
   "source": []
  }
 ],
 "metadata": {
  "kernelspec": {
   "display_name": "Python 3",
   "language": "python",
   "name": "python3"
  },
  "language_info": {
   "codemirror_mode": {
    "name": "ipython",
    "version": 3
   },
   "file_extension": ".py",
   "mimetype": "text/x-python",
   "name": "python",
   "nbconvert_exporter": "python",
   "pygments_lexer": "ipython3",
   "version": "3.7.4"
  }
 },
 "nbformat": 4,
 "nbformat_minor": 2
}
