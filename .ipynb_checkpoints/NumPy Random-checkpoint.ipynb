{
 "cells": [
  {
   "cell_type": "markdown",
   "metadata": {},
   "source": [
    "This assignment relates to the numpy.random package in Python [2] using Jupyter [5] notebook to explain the use of the package, including detailed explanations of at least five of the distributions provided for in the package.\n",
    "\n",
    "There are four distinct tasks to be carried out in Jupyter notebook:\n",
    "\n",
    "    1. Explain the overall purpose of the package.\n",
    "    2. Explain the use of the “Simple random data” and “Permutations” functions\n",
    "    3. Explain the use and purpose of at least five “Distributions” functions\n",
    "    4. Explain the use of seeds in generating pseudorandom numbers\n"
   ]
  },
  {
   "cell_type": "markdown",
   "metadata": {},
   "source": [
    "1. Purpose of the Numpy random package"
   ]
  },
  {
   "cell_type": "markdown",
   "metadata": {},
   "source": [
    "The purpose of the NumPy random package is to generate random numbers as required.  It is highly used in computer programming as generation of random numbers using a deterministic process is imperative to many applications.  The library numpy.random contains a variety of random number generators e.g. rand and randint.  These random number generators are used in a range of distributions to produce a sequence of numbers distributed to a given predetermined function.  Examples of usage include statistical sampling, computer simulation, cryptography, design, data modelling, games and gambling."
   ]
  },
  {
   "cell_type": "markdown",
   "metadata": {},
   "source": [
    "Import the random module. The rand(num) function generates a float number between 0.0 and 1.0. IF () contains no number, just one random number is returned.  If a number of random numbers is required, an array is returned."
   ]
  },
  {
   "cell_type": "code",
   "execution_count": 1,
   "metadata": {},
   "outputs": [],
   "source": [
    "import numpy as np"
   ]
  },
  {
   "cell_type": "code",
   "execution_count": 8,
   "metadata": {},
   "outputs": [],
   "source": [
    "import random"
   ]
  },
  {
   "cell_type": "code",
   "execution_count": 10,
   "metadata": {},
   "outputs": [
    {
     "data": {
      "text/plain": [
       "0.3794991832530715"
      ]
     },
     "execution_count": 10,
     "metadata": {},
     "output_type": "execute_result"
    }
   ],
   "source": [
    "np.random.rand()"
   ]
  },
  {
   "cell_type": "code",
   "execution_count": 11,
   "metadata": {},
   "outputs": [
    {
     "data": {
      "text/plain": [
       "array([0.79561873, 0.99540484, 0.36663617])"
      ]
     },
     "execution_count": 11,
     "metadata": {},
     "output_type": "execute_result"
    }
   ],
   "source": [
    "np.random.rand(3)"
   ]
  },
  {
   "cell_type": "code",
   "execution_count": null,
   "metadata": {},
   "outputs": [],
   "source": []
  }
 ],
 "metadata": {
  "kernelspec": {
   "display_name": "Python 3",
   "language": "python",
   "name": "python3"
  },
  "language_info": {
   "codemirror_mode": {
    "name": "ipython",
    "version": 3
   },
   "file_extension": ".py",
   "mimetype": "text/x-python",
   "name": "python",
   "nbconvert_exporter": "python",
   "pygments_lexer": "ipython3",
   "version": "3.7.4"
  }
 },
 "nbformat": 4,
 "nbformat_minor": 2
}
