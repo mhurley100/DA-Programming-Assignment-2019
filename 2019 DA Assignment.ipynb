{
 "cells": [
  {
   "cell_type": "markdown",
   "metadata": {},
   "source": [
    "# 2019 DA Assignment"
   ]
  },
  {
   "cell_type": "markdown",
   "metadata": {},
   "source": [
    "This assignment relates to the numpy.random package in Python [2] using Jupyter [5] notebook to explain the use of the package, including detailed explanations of at least five of the distributions provided for in the package.\n",
    "There are four distinct tasks to be carried out in Jupyter notebook:\n",
    "  1. Explain the overall purpose of the package.\n",
    "  2. Explain the use of the “Simple random data” and “Permutations” functions.\n",
    "  3. Explain the use and purpose of at least five “Distributions” functions.\n",
    "  4. Explain the use of seeds in generating pseudorandom numbers."
   ]
  },
  {
   "cell_type": "markdown",
   "metadata": {},
   "source": [
    "## 1. Purpose of the Numpy random package"
   ]
  },
  {
   "cell_type": "markdown",
   "metadata": {},
   "source": [
    "Numpy random package is used for generating arrays of random data for probability distributions and functions in scientific research and a variety of applications.  NumPy generates pseudorandom numbers in the submodule random using the Mersenne Twister algorithm. Pseudorandomness is generation of numbers using a deterministic process.  The numbers appear random but are seeded with an initial number.  These random numbers are used in a range of distributions:\n",
    "\n",
    "- uniform\n",
    "- normal (Gaussian)\n",
    "- lognormal\n",
    "- negative exponential\n",
    "- gamma\n",
    "- beta\n",
    "\n",
    "For generating distributions of angles, the von Mises distribution is used.\n",
    "\n",
    "However, being completely deterministic, it is not suitable for all purposes for example security or cryptographic purposes."
   ]
  },
  {
   "cell_type": "markdown",
   "metadata": {},
   "source": [
    "Import the random module. The random function generates a float number between 0.0 and 1.0. Generate 10 random numbers as follows:"
   ]
  },
  {
   "cell_type": "code",
   "execution_count": 1,
   "metadata": {},
   "outputs": [
    {
     "data": {
      "text/plain": [
       "array([0.93100411, 0.2500257 , 0.49437242, 0.57372107, 0.08677795,\n",
       "       0.9931449 , 0.48509492, 0.45491958, 0.93959535, 0.73868023])"
      ]
     },
     "execution_count": 1,
     "metadata": {},
     "output_type": "execute_result"
    }
   ],
   "source": [
    "import numpy as np\n",
    "np.random.rand(10)"
   ]
  },
  {
   "cell_type": "code",
   "execution_count": 2,
   "metadata": {},
   "outputs": [
    {
     "data": {
      "text/plain": [
       "array([0.26399201, 0.36173217, 0.55450425, 0.13929326, 0.31917687,\n",
       "       0.85990738, 0.39341721, 0.47211791, 0.62027447, 0.11064132])"
      ]
     },
     "execution_count": 2,
     "metadata": {},
     "output_type": "execute_result"
    }
   ],
   "source": [
    "import numpy as np\n",
    "np.random.rand(10)"
   ]
  },
  {
   "cell_type": "markdown",
   "metadata": {},
   "source": [
    "## 2.1  Use of the \"Simple Random Data\" function"
   ]
  },
  {
   "cell_type": "markdown",
   "metadata": {},
   "source": [
    "## 2.2  Use of the \"Permutations\" function"
   ]
  },
  {
   "cell_type": "markdown",
   "metadata": {},
   "source": [
    "## 3  Purpose of 5 \"Distributions\"  functions"
   ]
  },
  {
   "cell_type": "markdown",
   "metadata": {},
   "source": [
    "## 4 Use of seeds in generating pseudorandom numbers"
   ]
  },
  {
   "cell_type": "markdown",
   "metadata": {},
   "source": [
    "The example below demonstrates that seeding the pseudorandom number generator has resulted in the same sequence of numbers being generated twice.  The value of the seed can be any number but once a seed is assigned the result is the same sequence of random numbers.  Therefore a seed makes random numbers predictable. When the value is reset, the same numbers are output again and again. If a seed is not assigned, NumPy automatically selects a random seed value based on the system's random number generator device or on the clock."
   ]
  },
  {
   "cell_type": "code",
   "execution_count": 3,
   "metadata": {},
   "outputs": [
    {
     "data": {
      "text/plain": [
       "array([0.77132064, 0.02075195, 0.63364823, 0.74880388, 0.49850701])"
      ]
     },
     "execution_count": 3,
     "metadata": {},
     "output_type": "execute_result"
    }
   ],
   "source": [
    "import numpy as np\n",
    "np.random.seed(10)\n",
    "np.random.rand(5)"
   ]
  },
  {
   "cell_type": "code",
   "execution_count": 4,
   "metadata": {},
   "outputs": [
    {
     "data": {
      "text/plain": [
       "array([0.77132064, 0.02075195, 0.63364823, 0.74880388, 0.49850701])"
      ]
     },
     "execution_count": 4,
     "metadata": {},
     "output_type": "execute_result"
    }
   ],
   "source": [
    "import numpy as np\n",
    "np.random.seed(10)\n",
    "np.random.rand(5)"
   ]
  },
  {
   "cell_type": "code",
   "execution_count": null,
   "metadata": {},
   "outputs": [],
   "source": []
  }
 ],
 "metadata": {
  "kernelspec": {
   "display_name": "Python 3",
   "language": "python",
   "name": "python3"
  },
  "language_info": {
   "codemirror_mode": {
    "name": "ipython",
    "version": 3
   },
   "file_extension": ".py",
   "mimetype": "text/x-python",
   "name": "python",
   "nbconvert_exporter": "python",
   "pygments_lexer": "ipython3",
   "version": "3.7.4"
  }
 },
 "nbformat": 4,
 "nbformat_minor": 2
}
