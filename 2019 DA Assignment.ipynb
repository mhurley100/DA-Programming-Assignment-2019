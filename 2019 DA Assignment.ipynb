{
 "cells": [
  {
   "cell_type": "markdown",
   "metadata": {},
   "source": [
    "# 2019 DA Assignment"
   ]
  },
  {
   "cell_type": "markdown",
   "metadata": {},
   "source": [
    "This assignment relates to the numpy.random package in Python [2] using Jupyter [5] notebook to explain the use of the package, including detailed explanations of at least five of the distributions provided for in the package.\n",
    "There are four distinct tasks to be carried out in Jupyter notebook:\n",
    "  1. Explain the overall purpose of the package.\n",
    "  2. Explain the use of the “Simple random data” and “Permutations” functions.\n",
    "  3. Explain the use and purpose of at least five “Distributions” functions.\n",
    "  4. Explain the use of seeds in generating pseudorandom numbers."
   ]
  },
  {
   "cell_type": "markdown",
   "metadata": {},
   "source": [
    "## 1. Purpose of the Numpy random package"
   ]
  },
  {
   "cell_type": "markdown",
   "metadata": {},
   "source": [
<<<<<<< HEAD
    "The purpose of the NumPy random package is to generate random numbers as required.  It is highly used in computer programming as the generation of pseudo-random numbers is imperative to many applications for probability distributions and functions in scientific research and other applications.  NumPy generates pseudorandom numbers in the submodule random using the Mersenne Twister algorithm. Pseudorandomness is generation of numbers using a deterministic process.  The numbers appear random but are seeded with an initial number.  These random numbers are used in a range of distributions:\n",
    "\n",
    "\n",
    "\n",
=======
    "Numpy random package is used for generating arrays of random data for probability distributions and functions in scientific research and a variety of applications.  NumPy generates pseudorandom numbers in the submodule random using the Mersenne Twister algorithm. Pseudorandomness is generation of numbers using a deterministic process.  The numbers appear random but are seeded with an initial number.  These random numbers are used in a range of distributions:\n",
    "\n",
>>>>>>> 93947b39e31b4856647941a119a1a89e6dd1c415
    "- uniform\n",
    "- normal (Gaussian)\n",
    "- lognormal\n",
    "- negative exponential\n",
    "- gamma\n",
    "- beta\n",
    "\n",
    "For generating distributions of angles, the von Mises distribution is used.\n",
    "\n",
    "However, being completely deterministic, it is not suitable for all purposes for example security or cryptographic purposes."
   ]
  },
  {
   "cell_type": "markdown",
   "metadata": {},
   "source": [
<<<<<<< HEAD
    "Import the random module. The random function generates a float number between 0.0 and 1.0. Generate 10 random numbers and repeat.  A different series of numbers is generated each time (see below):"
=======
    "Import the random module. The random function generates a float number between 0.0 and 1.0. Generate 10 random numbers as follows:"
>>>>>>> 93947b39e31b4856647941a119a1a89e6dd1c415
   ]
  },
  {
   "cell_type": "code",
<<<<<<< HEAD
   "execution_count": 5,
=======
   "execution_count": 1,
>>>>>>> 93947b39e31b4856647941a119a1a89e6dd1c415
   "metadata": {},
   "outputs": [
    {
     "data": {
      "text/plain": [
<<<<<<< HEAD
       "array([0.22479665, 0.19806286, 0.76053071, 0.16911084, 0.08833981,\n",
       "       0.68535982, 0.95339335, 0.00394827, 0.51219226, 0.81262096])"
      ]
     },
     "execution_count": 5,
=======
       "array([0.93100411, 0.2500257 , 0.49437242, 0.57372107, 0.08677795,\n",
       "       0.9931449 , 0.48509492, 0.45491958, 0.93959535, 0.73868023])"
      ]
     },
     "execution_count": 1,
>>>>>>> 93947b39e31b4856647941a119a1a89e6dd1c415
     "metadata": {},
     "output_type": "execute_result"
    }
   ],
   "source": [
    "import numpy as np\n",
    "np.random.rand(10)"
   ]
  },
  {
   "cell_type": "code",
<<<<<<< HEAD
   "execution_count": 6,
=======
   "execution_count": 2,
>>>>>>> 93947b39e31b4856647941a119a1a89e6dd1c415
   "metadata": {},
   "outputs": [
    {
     "data": {
      "text/plain": [
<<<<<<< HEAD
       "array([0.61252607, 0.72175532, 0.29187607, 0.91777412, 0.71457578,\n",
       "       0.54254437, 0.14217005, 0.37334076, 0.67413362, 0.44183317])"
      ]
     },
     "execution_count": 6,
=======
       "array([0.26399201, 0.36173217, 0.55450425, 0.13929326, 0.31917687,\n",
       "       0.85990738, 0.39341721, 0.47211791, 0.62027447, 0.11064132])"
      ]
     },
     "execution_count": 2,
>>>>>>> 93947b39e31b4856647941a119a1a89e6dd1c415
     "metadata": {},
     "output_type": "execute_result"
    }
   ],
   "source": [
    "import numpy as np\n",
    "np.random.rand(10)"
   ]
  },
  {
   "cell_type": "markdown",
   "metadata": {},
   "source": [
    "## 2.1  Use of the \"Simple Random Data\" function"
   ]
  },
  {
   "cell_type": "markdown",
   "metadata": {},
   "source": [
<<<<<<< HEAD
    "Simple random data¶\n",
    "rand(d0, d1, ..., dn)\tRandom values in a given shape.\n",
    "randn(d0, d1, ..., dn)\tReturn a sample (or samples) from the “standard normal” distribution.\n",
    "randint(low[, high, size, dtype])\tReturn random integers from low (inclusive) to high (exclusive).\n",
    "random_integers(low[, high, size])\tRandom integers of type np.int between low and high, inclusive.\n",
    "random_sample([size])\tReturn random floats in the half-open interval [0.0, 1.0).\n",
    "random([size])\tReturn random floats in the half-open interval [0.0, 1.0).\n",
    "ranf([size])\tReturn random floats in the half-open interval [0.0, 1.0).\n",
    "sample([size])\tReturn random floats in the half-open interval [0.0, 1.0).\n",
    "choice(a[, size, replace, p])\tGenerates a random sample from a given 1-D array\n",
    "bytes(length)\tReturn random bytes.\n",
    "Permutations"
   ]
  },
  {
   "cell_type": "markdown",
   "metadata": {},
   "source": [
=======
>>>>>>> 93947b39e31b4856647941a119a1a89e6dd1c415
    "## 2.2  Use of the \"Permutations\" function"
   ]
  },
  {
   "cell_type": "markdown",
   "metadata": {},
   "source": [
<<<<<<< HEAD
    "Permutations\n",
    "shuffle(x)\tModify a sequence in-place by shuffling its contents.\n",
    "permutation(x)\tRandomly permute a sequence, or return a permuted range."
   ]
  },
  {
   "cell_type": "markdown",
   "metadata": {},
   "source": [
=======
>>>>>>> 93947b39e31b4856647941a119a1a89e6dd1c415
    "## 3  Purpose of 5 \"Distributions\"  functions"
   ]
  },
  {
   "cell_type": "markdown",
   "metadata": {},
   "source": [

=======
>>>>>>> 93947b39e31b4856647941a119a1a89e6dd1c415
    "## 4 Use of seeds in generating pseudorandom numbers"
   ]
  },
  {
   "cell_type": "markdown",
   "metadata": {},
   "source": [
<<<<<<< HEAD
    "Seeding the pseudorandom number generator has resulted in the same sequence of numbers being generated twice.  The value of the seed can be any number but once a seed is assigned the result is the same sequence of random numbers.  Therefore a seed makes random numbers predictable. When the value is reset, the same numbers are output again and again. If a seed is not assigned, NumPy automatically selects a random seed value based on the system's random number generator device or on the clock.\n",
    "\n",
    "\n",
    "Random number generators are very useful in developing Monte Carlo-method simulations, as debugging is facilitated by the ability to run the same sequence of random numbers again by starting from the same random seed. They are also used in cryptography – so long as the seed is secret. Sender and receiver can generate the same set of numbers automatically to use as keys.\n",
    "Random generator\n",
    "RandomState\tContainer for the Mersenne Twister pseudo-random number generator.\n",
    "seed([seed])\tSeed the generator.\n",
    "get_state()\tReturn a tuple representing the internal state of the generator.\n",
    "set_state(state)\tSet the internal state of the generator from a tuple."
=======
    "The example below demonstrates that seeding the pseudorandom number generator has resulted in the same sequence of numbers being generated twice.  The value of the seed can be any number but once a seed is assigned the result is the same sequence of random numbers.  Therefore a seed makes random numbers predictable. When the value is reset, the same numbers are output again and again. If a seed is not assigned, NumPy automatically selects a random seed value based on the system's random number generator device or on the clock."
>>>>>>> 93947b39e31b4856647941a119a1a89e6dd1c415
   ]
  },
  {
   "cell_type": "code",
   "execution_count": 3,
   "metadata": {},
   "outputs": [
    {
     "data": {
      "text/plain": [
       "array([0.77132064, 0.02075195, 0.63364823, 0.74880388, 0.49850701])"
      ]
     },
     "execution_count": 3,
     "metadata": {},
     "output_type": "execute_result"
    }
   ],
   "source": [
    "import numpy as np\n",
    "np.random.seed(10)\n",
    "np.random.rand(5)"
   ]
  },
  {
   "cell_type": "code",
   "execution_count": 4,
   "metadata": {},
   "outputs": [
    {
     "data": {
      "text/plain": [
       "array([0.77132064, 0.02075195, 0.63364823, 0.74880388, 0.49850701])"
      ]
     },
     "execution_count": 4,
     "metadata": {},
     "output_type": "execute_result"
    }
   ],
   "source": [
    "import numpy as np\n",
    "np.random.seed(10)\n",
    "np.random.rand(5)"
   ]
  },
  {
   "cell_type": "code",
   "execution_count": null,
   "metadata": {},
   "outputs": [],
   "source": []
  }
 ],
 "metadata": {
  "kernelspec": {
   "display_name": "Python 3",
   "language": "python",
   "name": "python3"
  },
  "language_info": {
   "codemirror_mode": {
    "name": "ipython",
    "version": 3
   },
   "file_extension": ".py",
   "mimetype": "text/x-python",
   "name": "python",
   "nbconvert_exporter": "python",
   "pygments_lexer": "ipython3",
   "version": "3.7.4"
  }
 },
 "nbformat": 4,
 "nbformat_minor": 2
}
