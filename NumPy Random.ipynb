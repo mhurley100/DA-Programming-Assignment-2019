{
 "cells": [
  {
   "cell_type": "markdown",
   "metadata": {},
   "source": [
    "This assignment relates to the numpy.random package in Python [2] using Jupyter [5] notebook.\n",
    "\n",
    "There are four distinct tasks explained in this in notebook:\n",
    "\n",
    "    1. Overall purpose of the Numpy random package.\n",
    "    2. The use of the “Simple random data” and “Permutations” functions\n",
    "    3. The use and purpose of at least five “Distributions” functions\n",
    "    4. The use of seeds in generating pseudorandom numbers\n"
   ]
  },
  {
   "cell_type": "markdown",
   "metadata": {},
   "source": [
    "## 1. Purpose of the Numpy random package"
   ]
  },
  {
   "cell_type": "markdown",
   "metadata": {},
   "source": [
    "Numerical Python is the core library for scientific computing and data analysis in Python. It provides a high-performance multi-dimensional array objects and tools for working with arrays.  It's numpy.random library is one of the most widely used libraries for random sampling.  The purpose of the NumPy random package is to generate random numbers as required.  It is highly used in computer programming where generation of random numbers is imperative to many applications. NumPy random number generators are used in a range of distributions that produce sequences of numbers to a given predetermined function.  Examples of usage include statistical sampling, computer simulation, data modelling and gaming.\n",
    "\n",
    "Key issues with random number generation:\n",
    "\n",
    "- Random numbers have two important statistical properties - independence and uniformity which are not easy concepts to emulate.  \n",
    "- Computing and randomness are not mutually compatible - randomness is counter-intuitive in computer programming:\n",
    "\n",
    "    - Computers are deterministic i.e. given a standard input, a standard output is produced. \n",
    "\n",
    "    - Random numbers are expected to be unpredictable.\n",
    "\n",
    "    - Computers therefore deal with pseudorandom numbers i.e. numbers that behave as if they were random. "
   ]
  },
  {
   "cell_type": "markdown",
   "metadata": {},
   "source": [
    "### 2.1 Explain the use of the “Simple random data”"
   ]
  },
  {
   "cell_type": "markdown",
   "metadata": {},
   "source": [
    "Simple random number generators are most common.  They provide random numbers uniformly distributed on an interval where random integers, floats, bytes etc are required.  A random number is returned with each member of the subset having an equal probability of being chosen.  It is therefore an unbiased representation of the group.  \n",
    "\n",
    "For example, the rand(num) function generates a float number between 0.0 and 1.0. If () contains no number, just one random number is returned.  If a number of random numbers is required, an array is returned. \n",
    "\n",
    "The numpy.random library contains a variety of random number generators e.g. rand, ranf, ramdom_sample and randint. As you can see below random floats,integers and bytes are generated as requested."
   ]
  },
  {
   "cell_type": "code",
   "execution_count": 1,
   "metadata": {},
   "outputs": [
    {
     "data": {
      "text/plain": [
       "array([0.36859181, 0.72291735])"
      ]
     },
     "execution_count": 1,
     "metadata": {},
     "output_type": "execute_result"
    }
   ],
   "source": [
    "# Import libraries\n",
    "import numpy as np\n",
    "import random\n",
    "# Generate 2 random floats between 0 - 1\n",
    "np.random.rand(2)"
   ]
  },
  {
   "cell_type": "code",
   "execution_count": 2,
   "metadata": {},
   "outputs": [
    {
     "data": {
      "text/plain": [
       "array([[0.0034049 , 0.57243647, 0.3591631 ],\n",
       "       [0.33363348, 0.59044412, 0.34886563],\n",
       "       [0.38094364, 0.74334739, 0.22401603]])"
      ]
     },
     "execution_count": 2,
     "metadata": {},
     "output_type": "execute_result"
    }
   ],
   "source": [
    "# Generate an array of floating numbers between 0 - 1\n",
    "np.random.rand(3,3)"
   ]
  },
  {
   "cell_type": "code",
   "execution_count": 3,
   "metadata": {},
   "outputs": [
    {
     "data": {
      "text/plain": [
       "array([[ 0.32266812, -0.32350987],\n",
       "       [ 0.08689359, -0.38973158],\n",
       "       [ 0.3154654 , -2.27800478]])"
      ]
     },
     "execution_count": 3,
     "metadata": {},
     "output_type": "execute_result"
    }
   ],
   "source": [
    "# Generate a 3 x 2 array from -3 to 3 of random samples\n",
    "5 * np.random.random_sample((3, 2)) - 3"
   ]
  },
  {
   "cell_type": "code",
   "execution_count": 4,
   "metadata": {},
   "outputs": [
    {
     "data": {
      "text/plain": [
       "1"
      ]
     },
     "execution_count": 4,
     "metadata": {},
     "output_type": "execute_result"
    }
   ],
   "source": [
    "# Generate 1 random integer between 0 - 9\n",
    "np.random.randint(10)"
   ]
  },
  {
   "cell_type": "code",
   "execution_count": 5,
   "metadata": {},
   "outputs": [
    {
     "data": {
      "text/plain": [
       "b'n\\xe2h\\xea'"
      ]
     },
     "execution_count": 5,
     "metadata": {},
     "output_type": "execute_result"
    }
   ],
   "source": [
    "# Generate random bytes (length)\n",
    "np.random.bytes(4)"
   ]
  },
  {
   "cell_type": "markdown",
   "metadata": {},
   "source": [
    "### 2.2 Explain the use of the “Permutations” function"
   ]
  },
  {
   "cell_type": "markdown",
   "metadata": {},
   "source": [
    "The Permutations function changes the order of an arrangement.  Both random.permutation and random.shuffle randomly shuffle elements in an array. Numpy random.shuffle shuffles the elements in an array whereby random.permutation shuffles a copy of the array."
   ]
  },
  {
   "cell_type": "code",
   "execution_count": 6,
   "metadata": {},
   "outputs": [
    {
     "data": {
      "text/plain": [
       "array([16, 29,  1, 25,  3, 55, 14])"
      ]
     },
     "execution_count": 6,
     "metadata": {},
     "output_type": "execute_result"
    }
   ],
   "source": [
    "# establish the array\n",
    "x = np.array([1,3,14,16,25,29,55])\n",
    "np.random.shuffle(x)\n",
    "x"
   ]
  },
  {
   "cell_type": "code",
   "execution_count": 7,
   "metadata": {},
   "outputs": [
    {
     "data": {
      "text/plain": [
       "array([ 3, 14, 16, 55, 29,  1, 25])"
      ]
     },
     "execution_count": 7,
     "metadata": {},
     "output_type": "execute_result"
    }
   ],
   "source": [
    "np.random.permutation(x)"
   ]
  },
  {
   "cell_type": "markdown",
   "metadata": {},
   "source": [
    "### 3. Explain the use and purpose of at least five “Distributions” functions"
   ]
  },
  {
   "cell_type": "markdown",
   "metadata": {},
   "source": [
    "#### A probability distribution describes the distribution of values. \n",
    "Probability and Statistics are the foundational pillars of Data Science[8].  Probability distributions and their distribution functions differ from one another along with some of their properties. "
   ]
  },
  {
   "cell_type": "markdown",
   "metadata": {},
   "source": [
    "##### Normal distribution\n",
    "\n",
    "Normal distributions are most common.  With normal distributions, values are centred around the mean value making the arrangement symmetric.  Because of the consistent properties of normal distributions, 68% of observations will fall in the range from one standard deviation below the mean to one standard deviation above the mean.    It is often called the bell curve because of its characteristic shape.  \n",
    "Uses include exam results, temperature, medical test results, the statistical distribution of height, weight or blood pressure by gender. \n",
    "\n",
    "The normal distribution has two parameters: the mean and the standard deviation. \n",
    "Since random numbers can be generated from a standard normal distribution, it is possible to extend to any normal distribution using the following formula:\n"
   ]
  },
  {
   "cell_type": "code",
   "execution_count": 8,
   "metadata": {},
   "outputs": [
    {
     "data": {
      "text/plain": [
       "Text(0.5, 1.0, 'Random numbers- Numpy Normal distribution')"
      ]
     },
     "execution_count": 8,
     "metadata": {},
     "output_type": "execute_result"
    }
   ],
   "source": [
    "# adapated from https\\\\scipy.org\n",
    "import matplotlib.pyplot as plt\n",
    "# Plot Histogram on x\n",
    "x = np.random.normal(1,10,1000)\n",
    "plt.hist(x)\n",
    "plt.title('Random numbers- Numpy Normal distribution')"
   ]
  },
  {
   "cell_type": "markdown",
   "metadata": {},
   "source": [
    "##### Binomial Distribution\n",
    "\n",
    "\n"
   ]
  },
  {
   "cell_type": "markdown",
   "metadata": {},
   "source": [
    "A distribution where only two outcomes are possible, such as success or failure, gain or loss, win or lose and where the probability of success and failure is same for all the trials is called a Binomial Distribution. However, The outcomes need not be equally likely, and each trial is independent of each other. The parameters of a binomial distribution are n and p where n is the total number of trials, and p is the probability of success in each trial. I"
   ]
  },
  {
   "cell_type": "code",
   "execution_count": 9,
   "metadata": {},
   "outputs": [
    {
     "data": {
      "text/plain": [
       "(array([  6.,  42., 135., 197.,   0., 238., 197., 138.,  38.,   9.]),\n",
       " array([1. , 1.8, 2.6, 3.4, 4.2, 5. , 5.8, 6.6, 7.4, 8.2, 9. ]),\n",
       " <a list of 10 Patch objects>)"
      ]
     },
     "execution_count": 9,
     "metadata": {},
     "output_type": "execute_result"
    },
    {
     "data": {
      "image/png": "[encoded data removed]",
      "text/plain": [
       "<Figure size 432x288 with 1 Axes>"
      ]
     },
     "metadata": {
      "needs_background": "light"
     },
     "output_type": "display_data"
    }
   ],
   "source": [
    "n, p = 10, .5  # number of trials, probability of each trial [7]\n",
    "s = np.random.binomial(n, p, 1000)\n",
    "plt.hist(s)"
   ]
  },
  {
   "cell_type": "markdown",
   "metadata": {},
   "source": [
    "#### Poisson distribution\n",
    "A Poisson distribution is a distribution which shows the likely number of times that an event will occur within a pre-determined period of time. It is used for independent events which occur at a constant rate within a given interval of time. Countable, rare events whose occurrence is independent[9].\n",
    "\n",
    "Poisson is a discrete probability distribution that expresses the probability of a given number of events occurring in a fixed interval of time or space if these events occur with a known constant rate and independently of the time since the last event.[1] The Poisson distribution can also be used for the number of events in other specified intervals such as distance, area or volume.\n",
    "\n",
    "For instance, an individual keeping track of the amount of mail they receive each day may notice that they receive an average number of 4 letters per day. If receiving any particular piece of mail does not affect the arrival times of future pieces of mail, i.e., if pieces of mail from a wide range of sources arrive independently of one another, then a reasonable assumption is that the number of pieces of mail received in a day obeys a Poisson distribution.[2] Other examples that may follow a Poisson distribution include the number of phone calls received by a call center per hour and the number of decay events per second from a radioactive source."
   ]
  },
  {
   "cell_type": "code",
   "execution_count": 10,
   "metadata": {},
   "outputs": [
    {
     "data": {
      "text/plain": [
       "Text(0.5, 1.0, 'Random numbers - Numpy Poisson distribution')"
      ]
     },
     "execution_count": 10,
     "metadata": {},
     "output_type": "execute_result"
    },
    {
     "data": {
      "image/png": "[encoded data removed]",
      "text/plain": [
       "<Figure size 432x288 with 1 Axes>"
      ]
     },
     "metadata": {
      "needs_background": "light"
     },
     "output_type": "display_data"
    }
   ],
   "source": [
    "s = np.random.poisson(5, 10000)\n",
    "count, bins, ignored = plt.hist(s, 14, density=True)\n",
    "plt.title('Random numbers - Numpy Poisson distribution')"
   ]
  },
  {
   "cell_type": "markdown",
   "metadata": {},
   "source": [
    "#### Gamma Distribution\n",
    "The gamma distribution is a two-parameter family of continuous probability distributions. While it is used rarely in its raw form but other popularly used distributions like exponential, chi-squared, erlang distributions are special cases of the gamma distribution. number."
   ]
  },
  {
   "cell_type": "code",
   "execution_count": 11,
   "metadata": {},
   "outputs": [
    {
     "data": {
      "text/plain": [
       "[<matplotlib.lines.Line2D at 0x1e2c795ec48>]"
      ]
     },
     "execution_count": 11,
     "metadata": {},
     "output_type": "execute_result"
    },
    {
     "data": {
      "image/png": "[encoded data removed]",
      "text/plain": [
       "<Figure size 432x288 with 1 Axes>"
      ]
     },
     "metadata": {
      "needs_background": "light"
     },
     "output_type": "display_data"
    }
   ],
   "source": [
    "shape, scale = 2., 2.  # mean=4, std=2*sqrt(2)\n",
    "s = np.random.gamma(shape, scale, 1000)\n",
    "import matplotlib.pyplot as plt\n",
    "import scipy.special as sps\n",
    "count, bins, ignored = plt.hist(s, 50, density=True)\n",
    "y = bins**(shape-1)*(np.exp(-bins/scale) /(sps.gamma(shape)*scale**shape))\n",
    "plt.plot(bins, y, linewidth=2, color='r')"
   ]
  },
  {
   "cell_type": "markdown",
   "metadata": {},
   "source": [
    "#### Pareto Distribution"
   ]
  },
  {
   "cell_type": "markdown",
   "metadata": {},
   "source": [
    "https://docs.scipy.org/doc/numpy-1.15.0/reference/generated/numpy.random.pareto.html\n",
    "The classical Pareto distribution can be obtained from the Lomax distribution by adding 1 and multiplying by the scale parameter m (see Notes). The smallest value of the Lomax distribution is zero while for the classical Pareto distribution it is mu, where the standard Pareto distribution has location mu = 1. Lomax can also be considered as a simplified version of the Generalized Pareto distribution (available in SciPy), with the scale set to one and the location set to zero.\n",
    "\n",
    "The Pareto distribution must be greater than zero, and is unbounded above. It is also known as the “80-20 rule”. In this distribution, 80 percent of the weights are in the lowest 20 percent of the range, while the other 20 percent fill the remaining 80 percent of the range."
   ]
  },
  {
   "cell_type": "code",
   "execution_count": 12,
   "metadata": {},
   "outputs": [
    {
     "data": {
      "text/plain": [
       "Text(0.5, 1.0, 'Random numbers - Pareto distribution')"
      ]
     },
     "execution_count": 12,
     "metadata": {},
     "output_type": "execute_result"
    },
    {
     "data": {
      "image/png": "[encoded data removed]",
      "text/plain": [
       "<Figure size 432x288 with 1 Axes>"
      ]
     },
     "metadata": {
      "needs_background": "light"
     },
     "output_type": "display_data"
    }
   ],
   "source": [
    "a, m = 3., 2.  # shape and mode\n",
    "s = (np.random.pareto(a, 1000) + 1) * m\n",
    "count, bins, _ = plt.hist(s, 100, density=True)\n",
    "fit = a*m**a / bins**(a+1)\n",
    "plt.plot(bins, max(count)*fit/max(fit), linewidth=2, color='r')\n",
    "plt.title('Random numbers - Pareto distribution')"
   ]
  },
  {
   "cell_type": "markdown",
   "metadata": {},
   "source": [
    "### 4. Explain the use of seeds in generating pseudorandom numbers"
   ]
  },
  {
   "cell_type": "markdown",
   "metadata": {},
   "source": [
    "Seeds are highly used in computer programming in the generation of pseudo-random numbers.  Computers are not random they are deterministic - they respond with the same answer every time.  How can you use a deterministic computer to produce random numbers?  \n",
    "- NumPy generates pseudorandom numbers in the submodule random using the Mersenne Twister algorithm. \n",
    "- The numbers appear random but are seeded with an initial number.  \n",
    "- Seeding the pseudorandom number generator results in the same sequence of numbers being generated twice.  Therefore assigning a seed makes random numbers predictable. When the value is reset, the same numbers are output again and again. If a seed is not assigned, NumPy automatically selects a random seed value based on the system's random number generator device or on the clock.\n",
    "\n",
    "These random numbers are used in a range of distributions.  The value of the seed can be any number but once a seed is assigned the result is the same sequence of random numbers.   \n",
    "\n",
    "Seeds are very useful as debugging is facilitated by the ability to run the same sequence of random numbers again by starting from the same random seed. However their use in security in cyrptography and security is not recommended as if the seed is known, the code can be broken.\n",
    "\n",
    "The np.random.seed function provides an input for the pseudo-random number generator in Python.  "
   ]
  },
  {
   "cell_type": "markdown",
   "metadata": {},
   "source": [
    "Using random.randint, return a random integer and repeat.  Note a different number is generated."
   ]
  },
  {
   "cell_type": "code",
   "execution_count": 13,
   "metadata": {},
   "outputs": [
    {
     "data": {
      "text/plain": [
       "1"
      ]
     },
     "execution_count": 13,
     "metadata": {},
     "output_type": "execute_result"
    }
   ],
   "source": [
    "np.random.randint(10)"
   ]
  },
  {
   "cell_type": "code",
   "execution_count": 14,
   "metadata": {},
   "outputs": [
    {
     "data": {
      "text/plain": [
       "7"
      ]
     },
     "execution_count": 14,
     "metadata": {},
     "output_type": "execute_result"
    }
   ],
   "source": [
    "np.random.randint(10)"
   ]
  },
  {
   "cell_type": "markdown",
   "metadata": {},
   "source": [
    "Using a seed, the same answer is returned again and again."
   ]
  },
  {
   "cell_type": "code",
   "execution_count": 15,
   "metadata": {},
   "outputs": [
    {
     "data": {
      "text/plain": [
       "8"
      ]
     },
     "execution_count": 15,
     "metadata": {},
     "output_type": "execute_result"
    }
   ],
   "source": [
    "np.random.seed(2)\n",
    "np.random.randint(10)"
   ]
  },
  {
   "cell_type": "code",
   "execution_count": 16,
   "metadata": {},
   "outputs": [
    {
     "data": {
      "text/plain": [
       "8"
      ]
     },
     "execution_count": 16,
     "metadata": {},
     "output_type": "execute_result"
    }
   ],
   "source": [
    "np.random.seed(2)\n",
    "np.random.randint(10)"
   ]
  }
 ],
 "metadata": {
  "kernelspec": {
   "display_name": "Python 3",
   "language": "python",
   "name": "python3"
  },
  "language_info": {
   "codemirror_mode": {
    "name": "ipython",
    "version": 3
   },
   "file_extension": ".py",
   "mimetype": "text/x-python",
   "name": "python",
   "nbconvert_exporter": "python",
   "pygments_lexer": "ipython3",
   "version": "3.7.4"
  }
 },
 "nbformat": 4,
 "nbformat_minor": 2
}
