{
 "cells": [
  {
   "cell_type": "markdown",
   "metadata": {},
   "source": [
    "This assignment relates to the numpy.random package in Python [2] using Jupyter [5] notebook.\n",
    "\n",
    "There are four distinct tasks explained in this in Jupyter notebook:\n",
    "\n",
    "    1. Overall purpose of the Numpy random package.\n",
    "    2. The use of the “Simple random data” and “Permutations” functions\n",
    "    3. The use and purpose of at least five “Distributions” functions\n",
    "    4. The use of seeds in generating pseudorandom numbers\n"
   ]
  },
  {
   "cell_type": "markdown",
   "metadata": {},
   "source": [
    "1. Purpose of the Numpy random package"
   ]
  },
  {
   "cell_type": "markdown",
   "metadata": {},
   "source": [
    "The purpose of the NumPy random package is to generate random numbers as required.  It is highly used in computer programming where generation of random numbers is imperative to many applications.  The numpy.random library contains a variety of random number generators e.g. rand and randint. \n",
    "\n",
    "Computing and randomness are not mutually compatible - randomness is counter intuitive in computer programming:\n",
    "\n",
    "- Computers are deterministic i.e. given a standard input, a standard output is produced. \n",
    "\n",
    "- Random numbers are expected to be unpredictable.\n",
    "\n",
    "- Computers therefore deal with pseudorandom numbers i.e. numbers that behave as if they were random. \n",
    "\n",
    "NumPy random number generators are used in a range of distributions that produce sequences of numbers to a given predetermined function.  Examples of usage include statistical sampling, computer simulation, data modelling and gaming."
   ]
  },
  {
   "cell_type": "markdown",
   "metadata": {},
   "source": [
    "2.1 Explain the use of the “Simple random data”"
   ]
  },
  {
   "cell_type": "markdown",
   "metadata": {},
   "source": [
    "Simple random number generators are the most providing random numbers uniformly distributed on an interval. It is used where random integers, floats, bytes etc are required.  It will return a random number with each member of the subset having an equal probability of being chosen.  It is therefore an unbiased representation of the group.  \n",
    "\n",
    "For example, the rand(num) function generates a float number between 0.0 and 1.0. If () contains no number, just one random number is returned.  If a number of random numbers is required, an array is returned. \n",
    "\n",
    "Import Numpy and the random module. As you can see below random floats,integers and bytes are generated as requested."
   ]
  },
  {
   "cell_type": "code",
   "execution_count": 11,
   "metadata": {},
   "outputs": [
    {
     "data": {
      "text/plain": [
       "0.18508207817320688"
      ]
     },
     "execution_count": 11,
     "metadata": {},
     "output_type": "execute_result"
    }
   ],
   "source": [
    "import numpy as np\n",
    "import random\n",
    "np.random.rand()"
   ]
  },
  {
   "cell_type": "code",
   "execution_count": 12,
   "metadata": {},
   "outputs": [
    {
     "data": {
      "text/plain": [
       "array([0.93154087, 0.94773061, 0.4847491 ])"
      ]
     },
     "execution_count": 12,
     "metadata": {},
     "output_type": "execute_result"
    }
   ],
   "source": [
    "np.random.rand(3)"
   ]
  },
  {
   "cell_type": "code",
   "execution_count": 13,
   "metadata": {},
   "outputs": [
    {
     "data": {
      "text/plain": [
       "7"
      ]
     },
     "execution_count": 13,
     "metadata": {},
     "output_type": "execute_result"
    }
   ],
   "source": [
    "np.random.randint(10)"
   ]
  },
  {
   "cell_type": "code",
   "execution_count": 14,
   "metadata": {},
   "outputs": [
    {
     "data": {
      "text/plain": [
       "b'\\xa2\\xd2\\x90T\\xb1'"
      ]
     },
     "execution_count": 14,
     "metadata": {},
     "output_type": "execute_result"
    }
   ],
   "source": [
    "np.random.bytes(5)"
   ]
  },
  {
   "cell_type": "markdown",
   "metadata": {},
   "source": [
    "2.2 Explain the use of the “Permutations” function"
   ]
  },
  {
   "cell_type": "markdown",
   "metadata": {},
   "source": [
    "The Permutations function changes the order of an arrangement.  Both random.permutation and random.shuffle randomly shuffle elements in an array. Numpy random.shuffle shuffles the elements in an array whereby random.permutation shuffles a copy of the array."
   ]
  },
  {
   "cell_type": "code",
   "execution_count": 15,
   "metadata": {},
   "outputs": [
    {
     "data": {
      "text/plain": [
       "array([ 3, 25, 55,  1, 14, 29, 16])"
      ]
     },
     "execution_count": 15,
     "metadata": {},
     "output_type": "execute_result"
    }
   ],
   "source": [
    "import numpy as np\n",
    "x = np.array([1,3,14,16,25,29,55])\n",
    "np.random.shuffle(x)\n",
    "x"
   ]
  },
  {
   "cell_type": "code",
   "execution_count": 16,
   "metadata": {},
   "outputs": [
    {
     "data": {
      "text/plain": [
       "array([25,  3, 16, 55, 14,  1, 29])"
      ]
     },
     "execution_count": 16,
     "metadata": {},
     "output_type": "execute_result"
    }
   ],
   "source": [
    "np.random.permutation(x)"
   ]
  },
  {
   "cell_type": "markdown",
   "metadata": {},
   "source": [
    "3. Explain the use and purpose of at least five “Distributions” functions"
   ]
  },
  {
   "cell_type": "code",
   "execution_count": null,
   "metadata": {},
   "outputs": [],
   "source": []
  },
  {
   "cell_type": "markdown",
   "metadata": {},
   "source": [
    "4. Explain the use of seeds in generating pseudorandom numbers"
   ]
  },
  {
   "cell_type": "markdown",
   "metadata": {},
   "source": [
    "Seeds are highly used in computer programming in the generation of pseudo-random numbers.  Computers are not random they are deterministic - they respond with the same answer every time.  How can you use a deterministic computer to produce random numbers?  \n",
    "- NumPy generates pseudorandom numbers in the submodule random using the Mersenne Twister algorithm. \n",
    "- The numbers appear random but are seeded with an initial number.  \n",
    "- Seeding the pseudorandom number generator results in the same sequence of numbers being generated twice.  Therefore assigning a seed makes random numbers predictable. When the value is reset, the same numbers are output again and again. If a seed is not assigned, NumPy automatically selects a random seed value based on the system's random number generator device or on the clock.\n",
    "\n",
    "These random numbers are used in a range of distributions.  The value of the seed can be any number but once a seed is assigned the result is the same sequence of random numbers.   \n",
    "\n",
    "Seeds are very useful as debugging is facilitated by the ability to run the same sequence of random numbers again by starting from the same random seed. However their use in security in cyrptography and security is not recommended as if the seed is known, the code can be broken.\n",
    "\n",
    "The np.random.seed function provides an input for the pseudo-random number generator in Python.  "
   ]
  },
  {
   "cell_type": "markdown",
   "metadata": {},
   "source": [
    "Using random.randint, return a random integer and repeat.  Note a different number is generated."
   ]
  },
  {
   "cell_type": "code",
   "execution_count": 7,
   "metadata": {},
   "outputs": [
    {
     "data": {
      "text/plain": [
       "1"
      ]
     },
     "execution_count": 7,
     "metadata": {},
     "output_type": "execute_result"
    }
   ],
   "source": [
    "np.random.randint(10)"
   ]
  },
  {
   "cell_type": "code",
   "execution_count": 8,
   "metadata": {},
   "outputs": [
    {
     "data": {
      "text/plain": [
       "1"
      ]
     },
     "execution_count": 8,
     "metadata": {},
     "output_type": "execute_result"
    }
   ],
   "source": [
    "np.random.randint(10)"
   ]
  },
  {
   "cell_type": "markdown",
   "metadata": {},
   "source": [
    "Using a seed, the same answer is returned again and again."
   ]
  },
  {
   "cell_type": "code",
   "execution_count": 9,
   "metadata": {},
   "outputs": [
    {
     "data": {
      "text/plain": [
       "8"
      ]
     },
     "execution_count": 9,
     "metadata": {},
     "output_type": "execute_result"
    }
   ],
   "source": [
    "np.random.seed(2)\n",
    "np.random.randint(10)"
   ]
  },
  {
   "cell_type": "code",
   "execution_count": 10,
   "metadata": {},
   "outputs": [
    {
     "data": {
      "text/plain": [
       "8"
      ]
     },
     "execution_count": 10,
     "metadata": {},
     "output_type": "execute_result"
    }
   ],
   "source": [
    "np.random.seed(2)\n",
    "np.random.randint(10)"
   ]
  }
 ],
 "metadata": {
  "kernelspec": {
   "display_name": "Python 3",
   "language": "python",
   "name": "python3"
  },
  "language_info": {
   "codemirror_mode": {
    "name": "ipython",
    "version": 3
   },
   "file_extension": ".py",
   "mimetype": "text/x-python",
   "name": "python",
   "nbconvert_exporter": "python",
   "pygments_lexer": "ipython3",
   "version": "3.7.4"
  }
 },
 "nbformat": 4,
 "nbformat_minor": 2
}
