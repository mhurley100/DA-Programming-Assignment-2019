{
 "cells": [
  {
   "cell_type": "markdown",
   "metadata": {},
   "source": [
    "#  Numpy Random Package\n",
    "<img src=\"randpic.png\" width=\"500\" height=\"500\" align=\"left\"/>"
   ]
  },
  {
   "cell_type": "markdown",
   "metadata": {},
   "source": [
    "## 1. Purpose of the Numpy random package"
   ]
  },
  {
   "cell_type": "markdown",
   "metadata": {},
   "source": [
    "Numerical Python is the core library for scientific computing and data analysis in Python [1].  It provides high-performance multi-dimensional array objects and tools for working with arrays.[5]  It's numpy.random library is one of the most widely used libraries for random sampling.  The purpose of the NumPy random package is to generate random numbers as required.  \n",
    "\n",
    "Random numbers eliminate the requirement to collect sample data - random numbers generators can be used instead.[9].  It is highly used in computer programming where generation of random numbers is imperative to many applications.  NumPy random number generators are used in a range of distributions that produce sequences of numbers to a given predetermined function[14].  Examples of usage include statistical sampling, computer simulation, data modelling and gaming.\n",
    "\n",
    "Why are random numbers difficult to generate?\n",
    "\n",
    "- Random numbers have two important statistical properties - independence and uniformity [13] which are not easy concepts to emulate.  \n",
    "- Computing and randomness are not mutually compatible - randomness is counter-intuitive in computer programming:\n",
    "\n",
    "    - Computers are deterministic i.e. given a standard input, a standard output is produced. \n",
    "\n",
    "    - Random numbers are expected to be unpredictable.\n",
    "\n",
    "    - Computers therefore deal with pseudorandom numbers [13] i.e. numbers that behave as if they were random.\n",
    "  "
   ]
  },
  {
   "cell_type": "markdown",
   "metadata": {},
   "source": [
    "## 2.1 Explain the use of the “Simple random data”"
   ]
  },
  {
   "cell_type": "markdown",
   "metadata": {},
   "source": [
    "Simple random data generators are most widely used.  Their purpose is to take a small random portion of the population to represent the wider group with each member having an equal probability of being chosen.  The random data generated is therefore an unbiased representation of the group.[11]  Using simple random data generators saves time, money and eliminates human bias.  Random data generators can be used in any field where the population is uniform e.g. finance and quality for audit purposes, in production for sampling output, computer programming for testing etc.  \n",
    "\n",
    "Simple random data generators provide random data uniformly distributed on an interval where random numbers, floats, bytes etc are required with each member having an equal probability of being chosen.  For example, the rand(num) function generates a float number between 0.0 and 1.0. If () contains no number, just one random number is returned.   If () contains a number, an array is returned. \n",
    "\n",
    "The numpy.random library contains a variety of random number generators e.g. rand, ranf, ramdom_sample and randint. As you can see below random floats, integers and bytes are generated on demand.  Docs.scipy.org[7] were used as a basis for generating the below examples."
   ]
  },
  {
   "cell_type": "code",
   "execution_count": 1,
   "metadata": {},
   "outputs": [
    {
     "data": {
      "text/plain": [
       "array([0.80761816, 0.48048553])"
      ]
     },
     "execution_count": 1,
     "metadata": {},
     "output_type": "execute_result"
    }
   ],
   "source": [
    "# Import libraries\n",
    "import numpy as np\n",
    "import random\n",
    "import seaborn as sns\n",
    "# Generate 2 random floats between 0 - 1 \n",
    "np.random.rand(2)\n",
    "# An array containing 2 random floats between 0 - 1 is returned"
   ]
  },
  {
   "cell_type": "code",
   "execution_count": 2,
   "metadata": {},
   "outputs": [
    {
     "data": {
      "text/plain": [
       "array([[0.0056328 , 0.29699075, 0.80037707],\n",
       "       [0.21157826, 0.46714961, 0.83820344],\n",
       "       [0.05607669, 0.51794522, 0.86431574]])"
      ]
     },
     "execution_count": 2,
     "metadata": {},
     "output_type": "execute_result"
    }
   ],
   "source": [
    "# Generate an array of floating numbers between 0 - 1\n",
    "np.random.rand(3,3)\n",
    "# An array is returned - 3 x 3 matrix containing random floats is returned"
   ]
  },
  {
   "cell_type": "code",
   "execution_count": 3,
   "metadata": {},
   "outputs": [
    {
     "data": {
      "text/plain": [
       "array([[ 3.87565914,  2.84104586],\n",
       "       [ 0.64584724,  2.67622346],\n",
       "       [ 1.71085398, -0.98626227]])"
      ]
     },
     "execution_count": 3,
     "metadata": {},
     "output_type": "execute_result"
    }
   ],
   "source": [
    "# Generate a 2 x 3 array from -1 to 5 of random floats\n",
    "5 * np.random.random_sample((3, 2)) - 1\n",
    "# An array is returned i.e. 2 x 3 matrix containing random floats is returned from -1 to 5 "
   ]
  },
  {
   "cell_type": "code",
   "execution_count": 4,
   "metadata": {},
   "outputs": [
    {
     "data": {
      "text/plain": [
       "8"
      ]
     },
     "execution_count": 4,
     "metadata": {},
     "output_type": "execute_result"
    }
   ],
   "source": [
    "# Generate 1 random integer between 0 - 9\n",
    "np.random.randint(10)\n",
    "# 1 random integer between 0 - 9 is returned"
   ]
  },
  {
   "cell_type": "code",
   "execution_count": 5,
   "metadata": {},
   "outputs": [
    {
     "data": {
      "text/plain": [
       "b'v$\\xc1\\xd4'"
      ]
     },
     "execution_count": 5,
     "metadata": {},
     "output_type": "execute_result"
    }
   ],
   "source": [
    "# Generate random bytes (length)\n",
    "np.random.bytes(4)\n",
    "# Random bytes (length) is returned"
   ]
  },
  {
   "cell_type": "markdown",
   "metadata": {},
   "source": [
    "## 2.2 Explain the use of the “Permutations” function"
   ]
  },
  {
   "cell_type": "markdown",
   "metadata": {},
   "source": [
    "The Permutations function randomly changes the order of an arrangement or the order along the first index of a multi dimensional array .  Both random.permutation and random.shuffle randomly shuffle elements in an sequence(see examples below).[7].  Numpy random.shuffle shuffles the elements in an array whereby random.permutation shuffles a copy of the array.[10]  In practice, there are many day to day applications, shuffling music, online gambling etc"
   ]
  },
  {
   "cell_type": "code",
   "execution_count": 6,
   "metadata": {},
   "outputs": [
    {
     "data": {
      "text/plain": [
       "array([ 55, 102,  16,  25,   1,   3,  99,  29,  14])"
      ]
     },
     "execution_count": 6,
     "metadata": {},
     "output_type": "execute_result"
    }
   ],
   "source": [
    "# establish the array\n",
    "x = np.array([1,3,14,16,25,29,55,99,102])\n",
    "# shuffle the array\n",
    "np.random.shuffle(x)\n",
    "# return x (shuffled)\n",
    "x"
   ]
  },
  {
   "cell_type": "code",
   "execution_count": 7,
   "metadata": {},
   "outputs": [
    {
     "data": {
      "text/plain": [
       "array([  1,  55,  16, 102,   3,  29,  99,  25,  14])"
      ]
     },
     "execution_count": 7,
     "metadata": {},
     "output_type": "execute_result"
    }
   ],
   "source": [
    "# return x (permuted)\n",
    "np.random.permutation(x)"
   ]
  },
  {
   "cell_type": "code",
   "execution_count": 8,
   "metadata": {},
   "outputs": [
    {
     "data": {
      "text/plain": [
       "array([[ 8,  9, 10, 11],\n",
       "       [ 0,  1,  2,  3],\n",
       "       [ 4,  5,  6,  7]])"
      ]
     },
     "execution_count": 8,
     "metadata": {},
     "output_type": "execute_result"
    }
   ],
   "source": [
    "# generate a 3 x 4 table permuted (first index)\n",
    "s = np.arange(12).reshape((3, 4))\n",
    "np.random.permutation(s)"
   ]
  },
  {
   "cell_type": "markdown",
   "metadata": {},
   "source": [
    "## 3. Explain the use and purpose of at least five “Distributions” functions"
   ]
  },
  {
   "cell_type": "markdown",
   "metadata": {},
   "source": [
    "Probability and Statistics are the foundational pillars of Data Science[8].  A probability distribution describes the distribution of values.  Probability distributions and their functions indicate the likelihood of an outcome occuring.\n",
    "\n",
    "Probability distributions describe the dispersion of random variables of which there are 2 types:\n",
    "\n",
    "- Discrete probability distributions which assume a discrete value.  For example, a coin toss - it is either head or tail.\n",
    "- Continuous Probability Distributions where variables can assume an infinite number of values between any two values. Variables can be measurements such as height, weight, and temperature. [12]. \n",
    "\n",
    "In order to ultilise the appropriate type of distribution to use, an understanding of the population is required.  This will ensure that the likelihood calculated of an event occurring is more accurate.  It is important to differentiate and apply distributions effectively.\n",
    "\n",
    "5 \"Distributions\" functions are explained below:\n",
    "- Normal - continuous distribution which estimates the standard error of a proportion in a population e.g test results\n",
    "- Binomial -is a discrete probability distribution where only 2 outcomes are possible - success or failure, win or lose etc\n",
    "- Poisson - gives the probability of a number of events in an interval\n",
    "- Gamma - skewed continuous probability distribution\n",
    "- Pareto - or the 80/20 distribution where 80% of values are in 20% range."
   ]
  },
  {
   "cell_type": "markdown",
   "metadata": {},
   "source": [
    "##### Normal distribution\n",
    "\n",
    "A normal distribution is a continuous distribution.  With normal distributions, values are centred around the mean, 50% to the left and 50% to the right.  It is therefore symmetric and often called the bell curve because of its shape.  Mean equals mode equals standard deviation.  Properties of normal distributions are very consistent with 68% of observations falling within the range of one standard deviation of the mean and 95% within 2 standard deviations.  Uses include business, statistics, exam results, medical tests etc \n",
    "\n",
    "The normal distribution has two parameters: the mean and the standard deviation. \n",
    "Since random numbers can be generated from a standard normal distribution, it is possible to extend to any normal distribution. [11]."
   ]
  },
  {
   "cell_type": "code",
   "execution_count": 9,
   "metadata": {},
   "outputs": [
    {
     "data": {
      "text/plain": [
       "Text(0.5, 1.0, 'Random numbers- Numpy Normal distribution')"
      ]
     },
     "execution_count": 9,
     "metadata": {},
     "output_type": "execute_result"
    },
    {
     "data": {
      "image/png": "[encoded data removed]",
      "text/plain": [
       "<Figure size 432x288 with 1 Axes>"
      ]
     },
     "metadata": {
      "needs_background": "light"
     },
     "output_type": "display_data"
    }
   ],
   "source": [
    "# adapated from https://docs.scipy.org/doc/numpy-1.15.0/reference/generated/numpy.random.normal.html[12]\n",
    "# Import matplotlib library\n",
    "import matplotlib.pyplot as plt\n",
    "# define mean and standard deviation\n",
    "# Assume Average body temperature is 36.5 with a std deviation of 0.5\n",
    "mu, sigma = 36.5, .5\n",
    "s = np.random.normal(mu, sigma, 1000)\n",
    "# display the continuous probability function\n",
    "count, bins, ignored = plt.hist(s, 30, density=True)\n",
    "# display histogram\n",
    "plt.plot(bins, 1/(sigma * np.sqrt(2 * np.pi)) *\n",
    "np.exp( - (bins - mu)**2 / (2 * sigma**2) ),\n",
    "linewidth=2, color='m')\n",
    "# Input title\n",
    "plt.title('Random numbers- Numpy Normal distribution', color=\"g\")\n",
    "# this demonstrates that 68% have body temperatures within one std deviation of mean"
   ]
  },
  {
   "cell_type": "markdown",
   "metadata": {},
   "source": [
    "##### Binomial Distribution\n",
    "\n",
    "\n"
   ]
  },
  {
   "cell_type": "markdown",
   "metadata": {},
   "source": [
    "A Binomial distribution is a discrete probability distribution where only two outcomes are possible such as success or failure, gain or loss, win or lose. The outcomes need not be equally likely and each trial is independent. The parameters of a binomial distribution are as follows:\n",
    "- There is a fixed number of trials (n)\n",
    "- The trials are independent\n",
    "- The trials end in one of two possible outcomes: success or failure\n",
    "- The probability of success, is the same for all trial (p) [15]\n",
    "\n",
    "For example Nasa is determining whether to send 10 probes to Pluto over the next 5 years.  What is the likely success rate of each and what is the liklihood that all ventures fail.  Binomial probablility will determine likely success rate for a number of trials and failure rate of all probes."
   ]
  },
  {
   "cell_type": "code",
   "execution_count": 10,
   "metadata": {},
   "outputs": [
    {
     "data": {
      "text/plain": [
       "array([10])"
      ]
     },
     "execution_count": 10,
     "metadata": {},
     "output_type": "execute_result"
    }
   ],
   "source": [
    "# number of trials, probability of success of each trial\n",
    "n, p = 100, .1 \n",
    "# send a probe 1000 times how many will succeed?\n",
    "np.random.binomial(n, p, 1)"
   ]
  },
  {
   "cell_type": "code",
   "execution_count": 11,
   "metadata": {},
   "outputs": [
    {
     "data": {
      "text/plain": [
       "0.3484"
      ]
     },
     "execution_count": 11,
     "metadata": {},
     "output_type": "execute_result"
    }
   ],
   "source": [
    "# adapted from https://docs.scipy.org/doc/numpy-1.14.0/reference/generated/numpy.random.binomial.html.[13].\n",
    "# Out of 10 probes sent to Mars with a 10% probability of success, what is the likelihood that they all fail?\n",
    "n, p = 10, .1\n",
    "# Run this experiment 10000 times\n",
    "sum(np.random.binomial(n, p, 10000) == 0)/10000\n",
    "# ~35%"
   ]
  },
  {
   "cell_type": "markdown",
   "metadata": {},
   "source": [
    "#### Poisson distribution\n",
    "Poisson distribution is a discrete probability distribution that expresses the probability that a given number of events occur in a fixed time period.  The Poisson distribution can also be used for the number of events in other specified intervals such as distance, area or volume.[9]\n",
    "\n",
    "Like the binomial distribution, the Poisson distribution is the distribution of a count. The Poisson distribution counts events over a given time period e.g. number of customers, calls to call centres, deliveries etc\n",
    "\n",
    "The following parameters need to be met:\n",
    "\n",
    "- Any successful event should not influence the outcome of another event.\n",
    "- The probability of success over a short interval must equal the probability of success over a longer interval.\n",
    "- The probability of success in an interval approaches zero as the interval becomes smaller.[15]\n",
    "\n",
    "For example, the number of people attending the emergency department per day."
   ]
  },
  {
   "cell_type": "code",
   "execution_count": 12,
   "metadata": {},
   "outputs": [
    {
     "data": {
      "text/plain": [
       "Text(0.5, 1.0, 'Random numbers- Numpy Poisson distribution')"
      ]
     },
     "execution_count": 12,
     "metadata": {},
     "output_type": "execute_result"
    },
    {
     "data": {
      "image/png": "[encoded data removed]",
      "text/plain": [
       "<Figure size 432x288 with 1 Axes>"
      ]
     },
     "metadata": {
      "needs_background": "light"
     },
     "output_type": "display_data"
    }
   ],
   "source": [
    "# adapted from https://docs.scipy.org/doc/numpy-1.14.0/reference/generated/numpy.random.poisson.html\n",
    "s = np.random.poisson(5, 10000)\n",
    "count, bins, ignored = plt.hist(s, 14, density=True)\n",
    "# Input title\n",
    "plt.title('Random numbers- Numpy Poisson distribution', color=\"g\")"
   ]
  },
  {
   "cell_type": "code",
   "execution_count": 13,
   "metadata": {},
   "outputs": [
    {
     "name": "stdout",
     "output_type": "stream",
     "text": [
      "[[109 498]\n",
      " [116 513]]\n"
     ]
    }
   ],
   "source": [
    "#Draw each 2 values for lambda 100 and 500:\n",
    "s = np.random.poisson(lam=(100., 500.), size=(2, 2))\n",
    "print(s)"
   ]
  },
  {
   "cell_type": "markdown",
   "metadata": {},
   "source": [
    "#### Gamma Distribution\n",
    "The gamma distribution is a skewed continuous probability distribution. While it is used rarely in its raw form but other popularly used distributions like exponential, chi-squared, erlang distributions are special cases of the gamma distribution. [8]\n",
    "The shape and scale parameters are flexible. The scale parameter determines where most of the observations lie and the shape parameter determines how the distribution will look.\n",
    "For example, estimate rainfall for a location at select time interval, based on past data of the same, gamma distribution is used as scale and shape are flexible."
   ]
  },
  {
   "cell_type": "code",
   "execution_count": 14,
   "metadata": {},
   "outputs": [
    {
     "data": {
      "text/plain": [
       "Text(0.5, 1.0, 'Random numbers- Numpy Gamma Distribution')"
      ]
     },
     "execution_count": 14,
     "metadata": {},
     "output_type": "execute_result"
    },
    {
     "data": {
      "image/png": "[encoded data removed]",
      "text/plain": [
       "<Figure size 432x288 with 1 Axes>"
      ]
     },
     "metadata": {
      "needs_background": "light"
     },
     "output_type": "display_data"
    }
   ],
   "source": [
    "# Adapted from https://docs.scipy.org/doc/numpy-1.15.0/reference/generated/numpy.random.gamma.html\n",
    "# Draw samples from the Gamma distribution\n",
    "# mean=4, std=2*sqrt(2)\n",
    "shape, scale = 2., 2.  \n",
    "s = np.random.gamma(shape, scale, 30000)\n",
    "import matplotlib.pyplot as plt\n",
    "import scipy.special as sps\n",
    "count, bins, ignored = plt.hist(s, 50, density=True)\n",
    "y = bins**(shape-1)*(np.exp(-bins/scale) /(sps.gamma(shape)*scale**shape))\n",
    "plt.plot(bins, y, linewidth=2, color='m')\n",
    "# Input title\n",
    "plt.title('Random numbers- Numpy Gamma Distribution', color=\"g\")"
   ]
  },
  {
   "cell_type": "markdown",
   "metadata": {},
   "source": [
    "#### Pareto Distribution"
   ]
  },
  {
   "cell_type": "markdown",
   "metadata": {},
   "source": [
    "The Pareto distribution is a skewed distribution and is also called as the '80-20 rule'. This distribution demonstrates inequity i.e. not all things are divided equally.  80% of values are in the 20% range with the remaining 20% in the 80% range.  This is clearly illustrated when analysing distribution of wealth, output, population etc, for example 20% of the population have 80% of the wealth.\n",
    "\n",
    "The distribution can be defined using one parameter- its shape."
   ]
  },
  {
   "cell_type": "code",
   "execution_count": 15,
   "metadata": {},
   "outputs": [
    {
     "data": {
      "text/plain": [
       "Text(0.5, 1.0, 'Random numbers- Numpy Pareto Distribution')"
      ]
     },
     "execution_count": 15,
     "metadata": {},
     "output_type": "execute_result"
    },
    {
     "data": {
      "image/png": "[encoded data removed]",
      "text/plain": [
       "<Figure size 432x288 with 1 Axes>"
      ]
     },
     "metadata": {
      "needs_background": "light"
     },
     "output_type": "display_data"
    }
   ],
   "source": [
    "# Adapted from https://docs.scipy.org/doc/numpy-1.15.0/reference/generated/numpy.random.pareto.html\n",
    "# shape and mode\n",
    "a, m = 3., 2.  \n",
    "s = (np.random.pareto(a, 1000) + 1) * m\n",
    "count, bins, _ = plt.hist(s, 100, density=True)\n",
    "fit = a*m**a / bins**(a+1)\n",
    "plt.plot(bins, max(count)*fit/max(fit), linewidth=2, color='m')\n",
    "# Input title\n",
    "plt.title('Random numbers- Numpy Pareto Distribution', color=\"g\")"
   ]
  },
  {
   "cell_type": "markdown",
   "metadata": {},
   "source": [
    "### 4. Explain the use of seeds in generating pseudorandom numbers"
   ]
  },
  {
   "cell_type": "markdown",
   "metadata": {},
   "source": [
    "Seeds are highly used in computer programming in the generation of pseudo-random numbers.  Computers are not random they are deterministic [9] - they respond with the same answer every time.  How can you use a deterministic computer to produce random numbers?  \n",
    "- NumPy generates pseudorandom numbers in the submodule random using the Mersenne Twister algorithm [7]. \n",
    "- The numbers appear random but are seeded with an initial number.  \n",
    "- Seeding the pseudorandom number generator results in the same sequence of numbers being generated twice.  Therefore assigning a seed makes random numbers predictable. When the value is reset, the same numbers are output again and again. If a seed is not assigned, NumPy automatically selects a random seed value based on the system's random number generator device or on the clock.\n",
    "\n",
    "These random numbers are used in a range of distributions.  The value of the seed can be any number but once a seed is assigned the result is the same sequence of random numbers.   \n",
    "\n",
    "Seeds are very useful as debugging is facilitated by the ability to run the same sequence of random numbers again by starting from the same random seed. However their use in security in cyrptography and security is not recommended as if the seed is known, the code can be broken[9].\n",
    "\n",
    "The np.random.seed function provides an input for the pseudo-random number generator in Python.  "
   ]
  },
  {
   "cell_type": "markdown",
   "metadata": {},
   "source": [
    "Using random.randint, return a random integer and repeat.  Note a different number is generated."
   ]
  },
  {
   "cell_type": "code",
   "execution_count": 16,
   "metadata": {},
   "outputs": [
    {
     "data": {
      "text/plain": [
       "4"
      ]
     },
     "execution_count": 16,
     "metadata": {},
     "output_type": "execute_result"
    }
   ],
   "source": [
    "np.random.randint(10)"
   ]
  },
  {
   "cell_type": "code",
   "execution_count": 17,
   "metadata": {},
   "outputs": [
    {
     "data": {
      "text/plain": [
       "5"
      ]
     },
     "execution_count": 17,
     "metadata": {},
     "output_type": "execute_result"
    }
   ],
   "source": [
    "np.random.randint(10)"
   ]
  },
  {
   "cell_type": "markdown",
   "metadata": {},
   "source": [
    "Using a seed, the same answer is returned again and again."
   ]
  },
  {
   "cell_type": "code",
   "execution_count": 18,
   "metadata": {},
   "outputs": [
    {
     "data": {
      "text/plain": [
       "8"
      ]
     },
     "execution_count": 18,
     "metadata": {},
     "output_type": "execute_result"
    }
   ],
   "source": [
    "np.random.seed(2)\n",
    "np.random.randint(10)"
   ]
  },
  {
   "cell_type": "code",
   "execution_count": 19,
   "metadata": {},
   "outputs": [
    {
     "data": {
      "text/plain": [
       "8"
      ]
     },
     "execution_count": 19,
     "metadata": {},
     "output_type": "execute_result"
    }
   ],
   "source": [
    "np.random.seed(2)\n",
    "np.random.randint(10)"
   ]
  },
  {
   "cell_type": "markdown",
   "metadata": {},
   "source": [
    "References\n",
    " - [1] Python Software Foundation. Welcome to python.org.\n",
    "https://www.python.org/\n",
    " - [2] GMIT. Quality assurance framework.\n",
    "https://www.gmit.ie/general/quality-assurance-framework\n",
    " - [3] Software Freedom Conservancy. Git.\n",
    "https://git-scm.com/\n",
    " - [4] Project Jupyter. Project jupyter.\n",
    "https://jupyter.org/\n",
    " - [5] NumPy developers. Numpy.\n",
    "http://www.numpy.org/\n",
    " - [6] Analytics Training\n",
    "https://analyticstraining.com/random-numbers-applications\n",
    " - [7] Scipy\n",
    " https://docs.scipy.org/doc/numpy-1.14.0/reference/routines.random.html\n",
    " - [8] Datacamp\n",
    "https://www.datacamp.com/community/tutorials/probability-distributions-python\n",
    " - [9] Wikipedia\n",
    "https://en.wikipedia.org/wiki/Pseudorandom_number_generator\n",
    " - [10] StackOverflow\n",
    "https://stackoverflow.com/questions/15474159/shuffle-vs-permute-numpyhttps://www.investopedia.com/terms/s/simple-random-sample.asp\n",
    " - [11] Investopedia\n",
    "https://www.investopedia.com/terms/s/simple-random-sample.asp\n",
    " - [12] Statistics by Jim\n",
    "https://statisticsbyjim.com/basics/probability-distributions/\n",
    " - [13] Bucknell\n",
    "https://www.eg.bucknell.edu/~xmeng/Course/CS6337/Note/master/\n",
    " - [14] NYU\n",
    "https://physics.nyu.edu/pine/pymanual/html/chap3/chap3_arrays.html\n",
    " - [15] Analyticsvidhya\n",
    "https://www.analyticsvidhya.com/blog/2017/09/6-probability-distributions-data-science/"
   ]
  },
  {
   "cell_type": "markdown",
   "metadata": {},
   "source": [
    "## The End"
   ]
  }
 ],
 "metadata": {
  "kernelspec": {
   "display_name": "Python 3",
   "language": "python",
   "name": "python3"
  },
  "language_info": {
   "codemirror_mode": {
    "name": "ipython",
    "version": 3
   },
   "file_extension": ".py",
   "mimetype": "text/x-python",
   "name": "python",
   "nbconvert_exporter": "python",
   "pygments_lexer": "ipython3",
   "version": "3.7.4"
  }
 },
 "nbformat": 4,
 "nbformat_minor": 2
}
